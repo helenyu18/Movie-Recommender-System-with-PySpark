{
 "cells": [
  {
   "cell_type": "code",
   "execution_count": 1,
   "metadata": {},
   "outputs": [],
   "source": [
    "import pandas as pd\n",
    "import numpy as np\n",
    "import os\n",
    "os.environ['PYSPARK_PYTHON'] = '/usr/bin/python3'\n",
    "os.environ['PYSPARK_DRIVER_PYTHON'] = '/usr/bin/python3'"
   ]
  },
  {
   "cell_type": "code",
   "execution_count": 2,
   "metadata": {},
   "outputs": [],
   "source": [
    "#movies = pd.read_csv(\"/home/helen/Documents/Codes/Recommender System/movielens/movie.csv\")\n",
    "#ratings = pd.read_csv(\"/home/helen/Documents/Codes/Recommender System/movielens/rating.csv\")"
   ]
  },
  {
   "cell_type": "code",
   "execution_count": 3,
   "metadata": {},
   "outputs": [],
   "source": [
    "#def fix_unicode(text):\n",
    "#    return text.replace(u\"\\u2019\", \"'\")\n",
    "#ratings.drop(['timestamp'], axis = 1, inplace = True)"
   ]
  },
  {
   "cell_type": "code",
   "execution_count": 4,
   "metadata": {},
   "outputs": [],
   "source": [
    "from pyspark.ml.evaluation import RegressionEvaluator\n",
    "from pyspark.ml.recommendation import ALS\n",
    "from pyspark.ml.tuning import TrainValidationSplit, ParamGridBuilder"
   ]
  },
  {
   "cell_type": "code",
   "execution_count": 5,
   "metadata": {},
   "outputs": [],
   "source": [
    "from pyspark.sql import SQLContext\n",
    "from pyspark.sql.types import *\n",
    "from pyspark import SparkContext, SparkConf\n",
    "sc = SparkContext()\n",
    "sqlContext = SQLContext(sc)"
   ]
  },
  {
   "cell_type": "code",
   "execution_count": 6,
   "metadata": {},
   "outputs": [
    {
     "name": "stdout",
     "output_type": "stream",
     "text": [
      "DataFrame[userId: int, movieId: int, rating: double, timestamp: timestamp]\n"
     ]
    }
   ],
   "source": [
    "#rating = ratings.select('userId', 'movieId', 'rating')\n",
    "# create train and test set\n",
    "#rating = sc.textFile(\"/home/helen/Documents/Codes/Recommender System/movielens/rating.csv\")\n",
    "rating = sqlContext.read.format('csv').option('header', 'true').option('inferSchema', 'true').load('/home/helen/Documents/Codes/Recommender System/movielens/rating1.csv')\n",
    "\n",
    "print(rating)"
   ]
  },
  {
   "cell_type": "code",
   "execution_count": 7,
   "metadata": {},
   "outputs": [],
   "source": [
    "train, test = rating.randomSplit([0.8, 0.2])"
   ]
  },
  {
   "cell_type": "code",
   "execution_count": 8,
   "metadata": {},
   "outputs": [],
   "source": [
    "#create ALS model\n",
    "als = ALS(userCol = \"userId\", itemCol = \"movieId\", ratingCol = \"rating\",\n",
    "         coldStartStrategy = \"drop\", nonnegative = True)"
   ]
  },
  {
   "cell_type": "code",
   "execution_count": 9,
   "metadata": {},
   "outputs": [],
   "source": [
    "#tune model using ParamGridBuilder\n",
    "param_grid = ParamGridBuilder().addGrid(als.rank, [12,13,14])\\\n",
    ".addGrid(als.maxIter, [18,19,20]).addGrid(als.regParam, [.17, .18, .19]).build()"
   ]
  },
  {
   "cell_type": "code",
   "execution_count": 10,
   "metadata": {},
   "outputs": [],
   "source": [
    "# define evaluator as RMSE\n",
    "eva = RegressionEvaluator(metricName = \"rmse\", labelCol = \"rating\", predictionCol = \"prediction\")"
   ]
  },
  {
   "cell_type": "code",
   "execution_count": 11,
   "metadata": {},
   "outputs": [],
   "source": [
    "# Build cross validation\n",
    "tvs = TrainValidationSplit(\n",
    "    estimator = als,\n",
    "    estimatorParamMaps = param_grid,\n",
    "    evaluator = eva,\n",
    "    parallelism = 50)"
   ]
  },
  {
   "cell_type": "code",
   "execution_count": 12,
   "metadata": {},
   "outputs": [
    {
     "name": "stdout",
     "output_type": "stream",
     "text": [
      "DataFrame[userId: int, movieId: int, rating: double, timestamp: timestamp]\n"
     ]
    }
   ],
   "source": [
    "#fit ALS model to training data\n",
    "#tvs = sc.parallelize(rating)\n",
    "print(train)\n",
    "model = tvs.fit(train)"
   ]
  },
  {
   "cell_type": "code",
   "execution_count": 13,
   "metadata": {},
   "outputs": [
    {
     "name": "stdout",
     "output_type": "stream",
     "text": [
      "TrainValidationSplitModel_577f4cf3c544\n"
     ]
    }
   ],
   "source": [
    "print(model)"
   ]
  },
  {
   "cell_type": "code",
   "execution_count": 14,
   "metadata": {},
   "outputs": [],
   "source": [
    "best_model = model.bestModel # extract the best model using ParamGridBuilder"
   ]
  },
  {
   "cell_type": "code",
   "execution_count": 15,
   "metadata": {},
   "outputs": [],
   "source": [
    "predictions = best_model.transform(test)\n",
    "rmse = eva.evaluate(predictions)"
   ]
  },
  {
   "cell_type": "code",
   "execution_count": 16,
   "metadata": {},
   "outputs": [
    {
     "name": "stdout",
     "output_type": "stream",
     "text": [
      "Root Mean Square Error = 0.8484364620056432\n",
      "--- Best Model---\n",
      "Rank:  14\n",
      "Max Iterator:  20\n",
      "Regression Parameter:  0.17\n"
     ]
    }
   ],
   "source": [
    "print(\"Root Mean Square Error = \"+ str(rmse))\n",
    "print(\"--- Best Model---\")\n",
    "print(\"Rank: \", best_model.rank)\n",
    "print(\"Max Iterator: \", best_model._java_obj.parent().getMaxIter())\n",
    "print(\"Regression Parameter: \", best_model._java_obj.parent().getRegParam())"
   ]
  },
  {
   "cell_type": "code",
   "execution_count": 17,
   "metadata": {},
   "outputs": [],
   "source": [
    "user_recs = best_model.recommendForAllUsers(10)"
   ]
  },
  {
   "cell_type": "code",
   "execution_count": 18,
   "metadata": {},
   "outputs": [],
   "source": [
    "def get_recs_for_user(recs):\n",
    "    recs = recs.select(\"recommendations.movieId\", \"recommendations.rating\")\n",
    "    movies = recs.select(\"movieId\").toPandas().iloc[0, 0]\n",
    "    ratings = recs.select(\"rating\").toPandas().iloc[0, 0]\n",
    "    ratings_matrix = pd.DataFrame(movies, columns = [\"movieId\"])\n",
    "    ratings_matrix[\"ratings\"] = ratings\n",
    "    ratings_matrix_ps = sqlContext.createDataFrame(ratings_matrix)\n",
    "    return ratings_matrix_ps"
   ]
  },
  {
   "cell_type": "code",
   "execution_count": 19,
   "metadata": {},
   "outputs": [
    {
     "data": {
      "text/plain": [
       "6039"
      ]
     },
     "execution_count": 19,
     "metadata": {},
     "output_type": "execute_result"
    }
   ],
   "source": [
    "user_recs.count()"
   ]
  },
  {
   "cell_type": "code",
   "execution_count": 20,
   "metadata": {},
   "outputs": [],
   "source": [
    "recs = user_recs    \n",
    "recs = recs.select(\"recommendations.movieId\", \"recommendations.rating\")\n",
    "movies = recs.select(\"movieId\").toPandas().iloc[0, 0]\n",
    "ratings = recs.select(\"rating\").toPandas().iloc[0, 0]\n",
    "ratings_matrix = pd.DataFrame(movies, columns = [\"movieId\"])\n",
    "ratings_matrix[\"ratings\"] = ratings\n",
    "ratings_matrix_ps = sqlContext.createDataFrame(ratings_matrix)"
   ]
  },
  {
   "cell_type": "code",
   "execution_count": 21,
   "metadata": {},
   "outputs": [
    {
     "data": {
      "text/plain": [
       "10"
      ]
     },
     "execution_count": 21,
     "metadata": {},
     "output_type": "execute_result"
    }
   ],
   "source": [
    "ratings_matrix_ps.count()"
   ]
  },
  {
   "cell_type": "code",
   "execution_count": 22,
   "metadata": {},
   "outputs": [
    {
     "data": {
      "text/plain": [
       "DataFrame[userId: int, movieId: int, rating: double, timestamp: timestamp, prediction: float]"
      ]
     },
     "metadata": {},
     "output_type": "display_data"
    }
   ],
   "source": [
    "display(predictions.sort(\"userId\", \"rating\"))"
   ]
  },
  {
   "cell_type": "code",
   "execution_count": 23,
   "metadata": {},
   "outputs": [
    {
     "name": "stdout",
     "output_type": "stream",
     "text": [
      "+-------+------------------+\n",
      "|movieId|           ratings|\n",
      "+-------+------------------+\n",
      "|  59295|3.9272844791412354|\n",
      "|  67138| 3.692906618118286|\n",
      "|  94806| 3.549441337585449|\n",
      "|   8422|3.4268205165863037|\n",
      "|    873|3.4113528728485107|\n",
      "|  73413| 3.330717086791992|\n",
      "|  50703|  3.25600004196167|\n",
      "|    857|3.2137033939361572|\n",
      "|  70133|3.1945221424102783|\n",
      "|  26791| 3.188664674758911|\n",
      "+-------+------------------+\n",
      "\n"
     ]
    }
   ],
   "source": [
    "\n",
    "rec = get_recs_for_user(user_recs)\n",
    "rec.show()"
   ]
  },
  {
   "cell_type": "code",
   "execution_count": null,
   "metadata": {},
   "outputs": [],
   "source": []
  }
 ],
 "metadata": {
  "kernelspec": {
   "display_name": "Python 3",
   "language": "python",
   "name": "python3"
  },
  "language_info": {
   "codemirror_mode": {
    "name": "ipython",
    "version": 3
   },
   "file_extension": ".py",
   "mimetype": "text/x-python",
   "name": "python",
   "nbconvert_exporter": "python",
   "pygments_lexer": "ipython3",
   "version": "3.6.6"
  }
 },
 "nbformat": 4,
 "nbformat_minor": 2
}
